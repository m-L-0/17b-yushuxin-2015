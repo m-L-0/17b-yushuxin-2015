{
 "cells": [
  {
   "cell_type": "code",
   "execution_count": 1,
   "metadata": {},
   "outputs": [],
   "source": [
    "import tensorflow as tf\n",
    "import numpy as np\n"
   ]
  },
  {
   "cell_type": "code",
   "execution_count": 2,
   "metadata": {},
   "outputs": [],
   "source": [
    "def read_data(path):\n",
    "    filename = tf.matching_files(path)\n",
    "    filename_queue = tf.train.string_input_producer(filename)\n",
    "    reader = tf.TFRecordReader()\n",
    "    _, example = reader.read(filename_queue)\n",
    "    features = tf.parse_single_example(\n",
    "        example,\n",
    "        features={\n",
    "            'image_raw': tf.FixedLenFeature([], tf.string),\n",
    "            'label': tf.FixedLenFeature([], tf.int64),\n",
    "        })\n",
    "\n",
    "    images = tf.decode_raw(features['image_raw'], tf.uint8)\n",
    "    images = tf.reshape(images, [1728])\n",
    "    labels = tf.cast(features['label'], tf.int64)\n",
    "    return images / 255, labels"
   ]
  },
  {
   "cell_type": "code",
   "execution_count": 3,
   "metadata": {},
   "outputs": [],
   "source": [
    "# 将图片shape转化为(?, 4, 10 )\n",
    "def image_reshape(l):\n",
    "    lab = np.zeros([len(l), 4, 11])\n",
    "    for n in range(len(l)):\n",
    "        for j, j_ in enumerate(str(l[n]) + ' ' * (4 - len(str(l[n])))):\n",
    "            if j_ == ' ':\n",
    "                lab[n][j][10] = 1\n",
    "            else:\n",
    "                lab[n][j][int(j_)] = 1\n",
    "    return lab"
   ]
  },
  {
   "cell_type": "code",
   "execution_count": 4,
   "metadata": {},
   "outputs": [],
   "source": [
    "def init_weights(shape):\n",
    "    return tf.Variable(tf.random_normal(shape, stddev=0.1))\n",
    "\n",
    "\n",
    "def init_bias(shape):\n",
    "    return tf.Variable(tf.constant(0.1, shape=shape))"
   ]
  },
  {
   "cell_type": "code",
   "execution_count": 5,
   "metadata": {},
   "outputs": [],
   "source": [
    "with tf.name_scope('input_layer'):\n",
    "    x_ = tf.placeholder(tf.float32, [None, 1728], name='x_input')\n",
    "    y = tf.placeholder(tf.float32, [None, 4, 11], name='y_input')\n",
    "    keep_prob = tf.placeholder(tf.float32, name='keep_prob')\n",
    "    x = tf.reshape(x_, [-1, 36, 48, 1], name='x')\n"
   ]
  },
  {
   "cell_type": "code",
   "execution_count": 6,
   "metadata": {},
   "outputs": [
    {
     "name": "stdout",
     "output_type": "stream",
     "text": [
      "Tensor(\"hidden_layer/Relu_3:0\", shape=(?, 512), dtype=float32)\n"
     ]
    }
   ],
   "source": [
    "with tf.name_scope('hidden_layer'):\n",
    "    # 第一层卷积\n",
    "    w1 = init_weights([3, 3, 1, 32])\n",
    "    b1 = init_bias([32])\n",
    "    conv1 = tf.nn.relu(tf.nn.conv2d(x, w1, strides=[1, 1, 1, 1], padding='SAME') + b1)  # shape=(?, 36, 48, 32)\n",
    "    # 池化\n",
    "    pool1 = tf.nn.max_pool(conv1, ksize=[1, 2, 2, 1], strides=[1, 2, 2, 1], padding='SAME')  # # shape=(?, 18, 24, 32)\n",
    "\n",
    "    # 第二层卷积\n",
    "    w2 = init_weights([3, 3, 32, 64])\n",
    "    b2 = init_bias([64])\n",
    "    conv2 = tf.nn.relu(tf.nn.conv2d(pool1, w2, strides=[1, 1, 1, 1], padding='SAME') + b2)  # shape=(?, 18, 24, 64)\n",
    "    # 池化\n",
    "    pool2 = tf.nn.max_pool(conv2, ksize=[1, 2, 2, 1], strides=[1, 2, 2, 1], padding='SAME')  # shape=(?, 9, 12, 64)\n",
    "\n",
    "    # 第三层卷积\n",
    "    w3 = init_weights([3, 3, 64, 96])\n",
    "    b3 = init_bias([96])\n",
    "    conv3 = tf.nn.relu(tf.nn.conv2d(pool2, w3, strides=[1, 1, 1, 1], padding='SAME') + b3)  # shape=(?, 9, 12, 96)\n",
    "    # 池化\n",
    "    pool3_ = tf.nn.max_pool(conv3, ksize=[1, 2, 2, 1], strides=[1, 2, 2, 1], padding='SAME')  # shape=(?, 5, 6, 96)\n",
    "\n",
    "    pool3 = tf.reshape(pool3_, [-1, 5 * 6 * 96])\n",
    "\n",
    "    # 全连接层\n",
    "    w4 = init_weights([5 * 6 * 96, 512])\n",
    "    b4 = init_bias([512])\n",
    "    h = tf.nn.relu(tf.matmul(pool3, w4) + b4)\n",
    "    print(h)\n",
    "    h = tf.nn.dropout(h, keep_prob)"
   ]
  },
  {
   "cell_type": "code",
   "execution_count": 7,
   "metadata": {},
   "outputs": [],
   "source": [
    "with tf.name_scope('output_layer'):\n",
    "    # 输出层 1\n",
    "    w_o = init_weights([512, 11])\n",
    "    b_o = init_bias([11])\n",
    "    y_o = tf.matmul(h, w_o) + b_o\n",
    "\n",
    "    # 输出层 2\n",
    "    w_o1 = init_weights([512, 11])\n",
    "    b_o1 = init_bias([11])\n",
    "    y_o1 = tf.matmul(h, w_o1) + b_o1\n",
    "\n",
    "\n",
    "    # 输出层 3\n",
    "    w_o2 = init_weights([512, 11])\n",
    "    b_o2 = init_bias([11])\n",
    "    y_o2 = tf.matmul(h, w_o2) + b_o2\n",
    "\n",
    "    # 输出层 4\n",
    "    w_o3 = init_weights([512, 11])\n",
    "    b_o3 = init_bias([11])\n",
    "    y_o3 = tf.matmul(h, w_o3) + b_o3\n",
    "\n",
    "    y_oo = tf.concat([y_o, y_o1, y_o2, y_o3], 1)\n",
    "    y_oo = tf.reshape(y_oo, [-1, 4, 11])"
   ]
  },
  {
   "cell_type": "code",
   "execution_count": 8,
   "metadata": {},
   "outputs": [],
   "source": [
    "with tf.name_scope('cost'):\n",
    "    cost1 = tf.reduce_mean(tf.nn.softmax_cross_entropy_with_logits(logits=y_oo[:, 0], labels=y[:, 0]))\n",
    "    cost2 = tf.reduce_mean(tf.nn.softmax_cross_entropy_with_logits(logits=y_oo[:, 1], labels=y[:, 1]))\n",
    "    cost3 = tf.reduce_mean(tf.nn.softmax_cross_entropy_with_logits(logits=y_oo[:, 2], labels=y[:, 2]))\n",
    "    cost4 = tf.reduce_mean(tf.nn.softmax_cross_entropy_with_logits(logits=y_oo[:, 3], labels=y[:, 3]))\n",
    "    # cost = tf.reduce_mean(tf.nn.softmax_cross_entropy_with_logits(logits=y_oo, labels=y))\n",
    "    cost = tf.reduce_sum([cost1, cost2, cost3, cost4])\n",
    "    tf.summary.histogram('cost', cost)"
   ]
  },
  {
   "cell_type": "code",
   "execution_count": 9,
   "metadata": {},
   "outputs": [],
   "source": [
    "with tf.name_scope('train'):\n",
    "    train_op = tf.train.AdamOptimizer().minimize(cost)\n",
    "    prediction = tf.equal(tf.argmax(y_oo, 2), tf.argmax(y, 2))\n",
    "    accuracy = tf.reduce_mean(tf.cast(prediction, tf.float32), name='accuracy')\n",
    "\n",
    "saver = tf.train.Saver()\n",
    "\n",
    "batch_size = 100"
   ]
  },
  {
   "cell_type": "code",
   "execution_count": null,
   "metadata": {},
   "outputs": [
    {
     "name": "stdout",
     "output_type": "stream",
     "text": [
      "训练次数： 0 正确率： 0.8525 代价： 1.95701\n",
      "验证集： 0.4575\n",
      "训练次数： 1 正确率： 0.955 代价： 0.598513\n"
     ]
    }
   ],
   "source": [
    "with tf.Session() as sess:\n",
    "\n",
    "    sess.run(tf.global_variables_initializer())\n",
    "    merged = tf.summary.merge_all()  # 将图形、训练过程等数据合并在一起\n",
    "    writer = tf.summary.FileWriter('logs', sess.graph)  # 将训练日志写入到logs文件夹下\n",
    "    image, label = read_data('./tfrecord/train*')\n",
    "    images, labels = tf.train.shuffle_batch([image, label], batch_size=32000, num_threads=1,\n",
    "                                            capacity=2000, min_after_dequeue=1000)\n",
    "    v_img, v_lab = read_data('./tfrecord/ver*')\n",
    "    v_image, v_label = tf.train.shuffle_batch([v_img, v_lab], batch_size=500, num_threads=2,\n",
    "                                            capacity=4000, min_after_dequeue=1000)\n",
    "\n",
    "    for i in range(500):\n",
    "\n",
    "        coord = tf.train.Coordinator()\n",
    "        thread = tf.train.start_queue_runners(coord=coord)\n",
    "        img, ll = sess.run([images, labels])\n",
    "        v_images, v_labels = sess.run([v_image, v_label])\n",
    "        lab = image_reshape(ll)\n",
    "        v_lab = image_reshape(v_labels)\n",
    "        training_batch = zip(range(0, len(img), batch_size),\n",
    "                             range(batch_size, len(img) + 1, batch_size))\n",
    "        for start, end in training_batch:\n",
    "\n",
    "            acc, co, a, m = sess.run([accuracy, cost, train_op, merged],\n",
    "                                     feed_dict={x_: img[start:end], y: lab[start:end], keep_prob: 1.0})\n",
    "            # result = sess.run(merged, feed_dict={x:, ys: y_data})  # 计算需要写入的日志数据\n",
    "            writer.add_summary(m, i)  # 将日志数据写入文件\n",
    "        print('训练次数：', i, '正确率：', acc, '代价：', co)\n",
    "        if i % 5 == 0:\n",
    "            v_accurary = sess.run(accuracy, feed_dict={x_: v_images, y: v_lab, keep_prob: 1.0})\n",
    "            print('验证集：', v_accurary)\n",
    "\n",
    "        if acc > 0.9 and v_accurary > 0.9:\n",
    "            save_path = saver.save(sess, 'model.ckpt')\n",
    "    coord.request_stop()\n",
    "    coord.join(thread)"
   ]
  }
 ],
 "metadata": {
  "kernelspec": {
   "display_name": "Python 3",
   "language": "python",
   "name": "python3"
  },
  "language_info": {
   "codemirror_mode": {
    "name": "ipython",
    "version": 3
   },
   "file_extension": ".py",
   "mimetype": "text/x-python",
   "name": "python",
   "nbconvert_exporter": "python",
   "pygments_lexer": "ipython3",
   "version": "3.6.2"
  }
 },
 "nbformat": 4,
 "nbformat_minor": 2
}
