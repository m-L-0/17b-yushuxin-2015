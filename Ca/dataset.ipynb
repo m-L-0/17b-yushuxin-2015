{
 "cells": [
  {
   "cell_type": "markdown",
   "metadata": {},
   "source": [
    "# 统计数据"
   ]
  },
  {
   "cell_type": "code",
   "execution_count": 9,
   "metadata": {},
   "outputs": [
    {
     "name": "stdout",
     "output_type": "stream",
     "text": [
      "1 : 9844 0.2461\n",
      "2 : 5908 0.1477\n",
      "3 : 16183 0.404575\n",
      "4 : 8065 0.201625\n"
     ]
    }
   ],
   "source": [
    "from collections import defaultdict\n",
    "\n",
    "\n",
    "# 设置默认值int\n",
    "d = defaultdict(int)\n",
    "\n",
    "with open('data/captcha/labels/labels.csv') as f:\n",
    "    lines = sorted(f.readlines(), key=lambda x: int(x.split(',')[-1])) \n",
    "    for line in lines:\n",
    "        # label 有\\n\n",
    "        img_path, label = line.split(',')\n",
    "        d[len(label[:-1])] += 1\n",
    "for k, v in d.items():\n",
    "    print(k, ':', v, v/len(lines))\n",
    "\n"
   ]
  },
  {
   "cell_type": "markdown",
   "metadata": {},
   "source": [
    "# 将数据存储成tfrecord"
   ]
  },
  {
   "cell_type": "code",
   "execution_count": 10,
   "metadata": {},
   "outputs": [],
   "source": [
    "lines_1 = lines[:9844]\n",
    "lines_2 = lines[9844:9844+5908]\n",
    "lines_3 = lines[9844+5908:9844+5908+16183]\n",
    "lines_4 = lines[9844+5908+16183:9844+5908+16183+8065]"
   ]
  },
  {
   "cell_type": "code",
   "execution_count": 11,
   "metadata": {},
   "outputs": [],
   "source": [
    "# 生成整型的属性\n",
    "def _int64_feature(value):\n",
    "    return tf.train.Feature(int64_list=tf.train.Int64List(value=[value]))\n",
    "\n",
    "\n",
    "# 生成字符串属性\n",
    "def _bytes_feature(value):\n",
    "    return tf.train.Feature(bytes_list=tf.train.BytesList(value=[value]))\n",
    "\n",
    "\n",
    "def save_data(path_list, name):\n",
    "\n",
    "    writer = tf.python_io.TFRecordWriter(name)\n",
    "    for i in path_list:\n",
    "        image, label = i.split(',')\n",
    "        img = Image.open(image).convert('L')\n",
    "        # print(img)\n",
    "        image_raw = img.tobytes()\n",
    "        example = tf.train.Example(features=tf.train.Features(feature={\n",
    "            'image_raw': _bytes_feature(image_raw),\n",
    "            'label': _int64_feature(int(label[:-1]))\n",
    "        }))\n",
    "        writer.write(example.SerializeToString())\n",
    "    writer.close()"
   ]
  },
  {
   "cell_type": "code",
   "execution_count": 12,
   "metadata": {},
   "outputs": [],
   "source": [
    "    # random.shuffle(lines_1)\n",
    "    # save_data(lines_1[:5000], './tfrecord/train_1_1.tfrecords')\n",
    "    # save_data(lines_1[5000:7875], './tfrecord/train_1_2.tfrecords')\n",
    "    # save_data(lines_1[7875:8860], './tfrecord/verification_1.tfrecords')\n",
    "    # save_data(lines_1[8860:], './tfrecord/test_1.tfrecords')\n",
    "\n",
    "    # random.shuffle(lines_2)\n",
    "    # save_data(lines_2[:4726], './tfrecord/train_2_1.tfrecords')\n",
    "    # save_data(lines_2[4726:5317], './tfrecord/verification_2.tfrecords')\n",
    "    # save_data(lines_2[5317:], './tfrecord/test_2.tfrecords')\n",
    "\n",
    "    # random.shuffle(lines_3)\n",
    "    # save_data(lines_3[:5000], './tfrecord/train_3_1.tfrecords')\n",
    "    # save_data(lines_3[5000:10000], './tfrecord/train_3_2.tfrecords')\n",
    "    # save_data(lines_3[10000:12946], './tfrecord/train_3_3.tfrecords')\n",
    "    # save_data(lines_3[12946:14565], './tfrecord/verification_3.tfrecords')\n",
    "    # save_data(lines_3[14565:], './tfrecord/test_3.tfrecords')\n",
    "\n",
    "#     random.shuffle(lines_4)\n",
    "#     save_data(lines_4[:5000], './tfrecord/train_4_1.tfrecords')\n",
    "#     save_data(lines_4[5000:6452], './tfrecord/train_4_2.tfrecords')\n",
    "#     save_data(lines_4[6452:7259], './tfrecord/verification_4.tfrecords')\n",
    "#     save_data(lines_4[7259:], './tfrecord/test_4.tfrecords')"
   ]
  },
  {
   "cell_type": "code",
   "execution_count": null,
   "metadata": {},
   "outputs": [],
   "source": []
  }
 ],
 "metadata": {
  "kernelspec": {
   "display_name": "Python 3",
   "language": "python",
   "name": "python3"
  },
  "language_info": {
   "codemirror_mode": {
    "name": "ipython",
    "version": 3
   },
   "file_extension": ".py",
   "mimetype": "text/x-python",
   "name": "python",
   "nbconvert_exporter": "python",
   "pygments_lexer": "ipython3",
   "version": "3.5.2"
  }
 },
 "nbformat": 4,
 "nbformat_minor": 2
}
