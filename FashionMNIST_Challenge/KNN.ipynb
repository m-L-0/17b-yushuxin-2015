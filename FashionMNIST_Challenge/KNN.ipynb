{
 "cells": [
  {
   "cell_type": "code",
   "execution_count": 7,
   "metadata": {},
   "outputs": [
    {
     "name": "stdout",
     "output_type": "stream",
     "text": [
      "Extracting data/train-images-idx3-ubyte.gz\n",
      "Extracting data/train-labels-idx1-ubyte.gz\n",
      "Extracting data/t10k-images-idx3-ubyte.gz\n",
      "Extracting data/t10k-labels-idx1-ubyte.gz\n",
      "正确率： 0.8\n"
     ]
    }
   ],
   "source": [
    "__author__ = 'freedom'\n",
    "import tensorflow as tf\n",
    "import numpy as np\n",
    "\n",
    "def loadMNIST():\n",
    "    from tensorflow.examples.tutorials.mnist import input_data\n",
    "    mnist = input_data.read_data_sets('data/',one_hot=True)\n",
    "    return mnist\n",
    "def KNN(mnist):\n",
    "    #加载测试集，训练集数据\n",
    "    train_x,train_y = mnist.train.next_batch(5000)\n",
    "    test_x,test_y = mnist.train.next_batch(200)\n",
    "    #临时存储数据\n",
    "    xtr = tf.placeholder(tf.float32,[None,784])\n",
    "    xte = tf.placeholder(tf.float32,[784])\n",
    "    #用欧式距离计算\n",
    "    distance = tf.sqrt(\n",
    "        tf.reduce_sum(\n",
    "            tf.pow(tf.add(xtr,tf.negative(xte)),2),\n",
    "            reduction_indices=1))\n",
    "    \n",
    "    #默认k=1，计算距离样本最小的距离的索引\n",
    "    pred = tf.argmin(distance,0)\n",
    "\n",
    "\n",
    "    with tf.Session() as sess:\n",
    "        tf.global_variables_initializer().run()\n",
    "        right = 0\n",
    "        for i in range(200):\n",
    "            ansIndex = sess.run(pred,{xtr:train_x,xte:test_x[i,:]})\n",
    "#             print ('prediction is ',np.argmax(train_y[ansIndex]))\n",
    "#             print ('true value is ',np.argmax(test_y[i]))\n",
    "            #读者编码  全0只有一个1\n",
    "            if np.argmax(test_y[i]) == np.argmax(train_y[ansIndex]):\n",
    "#             if test_y[i] == train_y[ansIndex]:\n",
    "                right += 1.0\n",
    "        accracy = right/200.0\n",
    "        print ('正确率：',accracy)\n",
    "\n",
    "if __name__ == \"__main__\":\n",
    "    mnist = loadMNIST()\n",
    "    KNN(mnist)\n",
    "\n"
   ]
  },
  {
   "cell_type": "code",
   "execution_count": null,
   "metadata": {},
   "outputs": [],
   "source": []
  }
 ],
 "metadata": {
  "kernelspec": {
   "display_name": "Python 3",
   "language": "python",
   "name": "python3"
  },
  "language_info": {
   "codemirror_mode": {
    "name": "ipython",
    "version": 3
   },
   "file_extension": ".py",
   "mimetype": "text/x-python",
   "name": "python",
   "nbconvert_exporter": "python",
   "pygments_lexer": "ipython3",
   "version": "3.6.2"
  }
 },
 "nbformat": 4,
 "nbformat_minor": 2
}
