{
 "cells": [
  {
   "cell_type": "code",
   "execution_count": 3,
   "metadata": {},
   "outputs": [],
   "source": [
    "import tensorflow as tf \n",
    "import numpy as np "
   ]
  },
  {
   "cell_type": "code",
   "execution_count": 5,
   "metadata": {},
   "outputs": [],
   "source": [
    "from tensorflow.examples.tutorials.mnist import input_data"
   ]
  },
  {
   "cell_type": "code",
   "execution_count": 6,
   "metadata": {},
   "outputs": [
    {
     "name": "stdout",
     "output_type": "stream",
     "text": [
      "Extracting ./data/train-images-idx3-ubyte.gz\n",
      "Extracting ./data/train-labels-idx1-ubyte.gz\n",
      "Extracting ./data/t10k-images-idx3-ubyte.gz\n",
      "Extracting ./data/t10k-labels-idx1-ubyte.gz\n"
     ]
    }
   ],
   "source": [
    "data = input_data.read_data_sets('./data/')"
   ]
  },
  {
   "cell_type": "code",
   "execution_count": 9,
   "metadata": {},
   "outputs": [],
   "source": [
    "img = data.train.images "
   ]
  },
  {
   "cell_type": "code",
   "execution_count": 10,
   "metadata": {},
   "outputs": [],
   "source": [
    "lab = data.train.labels \n",
    "num = data.train.num_examples"
   ]
  },
  {
   "cell_type": "code",
   "execution_count": 11,
   "metadata": {},
   "outputs": [],
   "source": [
    "with tf.python_io.TFRecordWriter('train.tfrecords') as f:\n",
    "    for i in range(num):\n",
    "        img_raw = img[i].tostring() \n",
    "        example = tf.train.Example(features=tf.train.Features(feature={\n",
    "            'img':tf.train.Feature(bytes_list=tf.train.BytesList(value=[img_raw])), \n",
    "            'lab':tf.train.Feature(int64_list=tf.train.Int64List(value=[lab[i]]))\n",
    "        })) \n",
    "        f.write(example.SerializeToString()) "
   ]
  },
  {
   "cell_type": "code",
   "execution_count": 14,
   "metadata": {},
   "outputs": [],
   "source": [
    "img1 = data.train.images \n",
    "lab1 = data.train.labels \n",
    "num = data.train.num_examples\n",
    "\n",
    "\n",
    "with tf.python_io.TFRecordWriter('test.tfrecords') as af:\n",
    "    for i in range(num):\n",
    "        img_raw = img1[i].tostring() \n",
    "        example = tf.train.Example(features=tf.train.Features(feature={\n",
    "            'img':tf.train.Feature(bytes_list=tf.train.BytesList(value=[img_raw])), \n",
    "            'lab':tf.train.Feature(int64_list=tf.train.Int64List(value=[lab1[i]]))\n",
    "        })) \n",
    "        af.write(example.SerializeToString()) "
   ]
  },
  {
   "cell_type": "code",
   "execution_count": 13,
   "metadata": {},
   "outputs": [],
   "source": [
    "Vimg = data.validation.images\n",
    "Vlab = data.validation.labels\n",
    "Vnum = data.validation.num_examples\n",
    "\n",
    "\n",
    "with tf.python_io.TFRecordWriter('validation.tfrecords') as Vf:\n",
    "    for i in range(Vnum):\n",
    "        img_raw = Vimg[i].tostring()\n",
    "        example = tf.train.Example(features=tf.train.Features(feature={\n",
    "            'Vimg':tf.train.Feature(bytes_list=tf.train.BytesList(value=[img_raw])),\n",
    "            'Vlab':tf.train.Feature(int64_list=tf.train.Int64List(value=[Vlab[i]]))\n",
    "        }))\n",
    "        Vf.write(example.SerializeToString())"
   ]
  },
  {
   "cell_type": "code",
   "execution_count": null,
   "metadata": {},
   "outputs": [],
   "source": []
  },
  {
   "cell_type": "code",
   "execution_count": null,
   "metadata": {},
   "outputs": [],
   "source": []
  }
 ],
 "metadata": {
  "kernelspec": {
   "display_name": "Python 3",
   "language": "python",
   "name": "python3"
  },
  "language_info": {
   "codemirror_mode": {
    "name": "ipython",
    "version": 3
   },
   "file_extension": ".py",
   "mimetype": "text/x-python",
   "name": "python",
   "nbconvert_exporter": "python",
   "pygments_lexer": "ipython3",
   "version": "3.6.2"
  }
 },
 "nbformat": 4,
 "nbformat_minor": 2
}
