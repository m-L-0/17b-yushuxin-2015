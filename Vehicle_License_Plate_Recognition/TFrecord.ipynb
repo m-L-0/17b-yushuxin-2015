{
 "cells": [
  {
   "cell_type": "code",
   "execution_count": null,
   "metadata": {},
   "outputs": [],
   "source": [
    "import os \n",
    "import tensorflow as tf \n",
    "from PIL import Image  #注意Image,后面会用到\n",
    "import matplotlib.pyplot as plt \n",
    "import numpy as np\n",
    " \n",
    "cwd='data/字母/'\n",
    "classes=('0', '1', '2', '3', '4', '5', '6', '7', '8', '9', 'A', 'B', 'C', 'D', 'E',\n",
    "        'F', 'G', 'H', 'J', 'K', 'L', 'M', 'N', 'P', 'Q', 'R', 'S', 'T', 'U',\n",
    "        'V', 'W', 'X', 'Y', 'Z')#人为 设定 类\n",
    "writer1= tf.python_io.TFRecordWriter(\"tfrecords/train.tfrecords\") #要生成的文件\n",
    "writer2= tf.python_io.TFRecordWriter(\"tfrecords/test.tfrecords\") \n",
    "\n",
    "for index,name in enumerate(classes):\n",
    "    n = 0\n",
    "    class_path=cwd+name+'/'\n",
    "    for img_name in os.listdir(class_path): \n",
    "        img_path=class_path+img_name #每一个图片的地址\n",
    "        \n",
    "        n += 1\n",
    "        \n",
    "        img=Image.open(img_path)\n",
    "        img= img.resize((24,48))\n",
    "        img_raw=img.tobytes()#将图片转化为二进制格式\n",
    "        example = tf.train.Example(features=tf.train.Features(feature={\n",
    "            \"label\": tf.train.Feature(int64_list=tf.train.Int64List(value=[index])),\n",
    "            'img_raw': tf.train.Feature(bytes_list=tf.train.BytesList(value=[img_raw]))\n",
    "        })) #example对象对label和image数据进行封装\n",
    "        if n >= len(os.listdir(class_path))*0.7:\n",
    "            break\n",
    "    \n",
    "        writer1.write(example.SerializeToString())  #序列化为字符串\n",
    "#     print(n/len(os.listdir(class_path)))\n",
    "for index,name in enumerate(classes):\n",
    "    n = 0\n",
    "    class_path=cwd+name+'/'\n",
    "    for img_name in os.listdir(class_path): \n",
    "        img_path=class_path+img_name #每一个图片的地址\n",
    "        \n",
    "        n += 1\n",
    "        \n",
    "        img=Image.open(img_path)\n",
    "        img= img.resize((24,48))\n",
    "        img_raw=img.tobytes()#将图片转化为二进制格式\n",
    "        example = tf.train.Example(features=tf.train.Features(feature={\n",
    "            \"label\": tf.train.Feature(int64_list=tf.train.Int64List(value=[index])),\n",
    "            'img_raw': tf.train.Feature(bytes_list=tf.train.BytesList(value=[img_raw]))\n",
    "        })) #example对象对label和image数据进行封装\n",
    "        if n < len(os.listdir(class_path))*0.7:\n",
    "            continue\n",
    "        writer2.write(example.SerializeToString())  #序列化为字符串\n",
    "#     print(n/len(os.listdir(class_path)))\n",
    "   \n",
    "    \n",
    "writer1.close()\n",
    "writer2.close()"
   ]
  }
 ],
 "metadata": {
  "kernelspec": {
   "display_name": "Python 3",
   "language": "python",
   "name": "python3"
  },
  "language_info": {
   "codemirror_mode": {
    "name": "ipython",
    "version": 3
   },
   "file_extension": ".py",
   "mimetype": "text/x-python",
   "name": "python",
   "nbconvert_exporter": "python",
   "pygments_lexer": "ipython3",
   "version": "3.6.2"
  }
 },
 "nbformat": 4,
 "nbformat_minor": 2
}
